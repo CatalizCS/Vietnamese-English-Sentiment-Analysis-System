{
 "cells": [
  {
   "cell_type": "markdown",
   "metadata": {},
   "source": [
    "# Initialize Environment for Sentiment Analysis Project\n",
    "\n",
    "Notebook này sẽ:\n",
    "1. Tạo môi trường ảo (venv)\n",
    "2. Cài đặt các dependencies\n",
    "3. Cài đặt Jupyter kernel cho venv\n",
    "4. Tải dữ liệu NLTK cần thiết"
   ]
  },
  {
   "cell_type": "code",
   "execution_count": 6,
   "metadata": {},
   "outputs": [
    {
     "name": "stdout",
     "output_type": "stream",
     "text": [
      "Requirement already satisfied: ipython in c:\\users\\tamaisme\\desktop\\projects\\python\\project\\sentiment_analysis\\venv\\lib\\site-packages (8.12.3)\n",
      "Requirement already satisfied: traitlets>=5 in c:\\users\\tamaisme\\desktop\\projects\\python\\project\\sentiment_analysis\\venv\\lib\\site-packages (from ipython) (5.14.3)\n",
      "Requirement already satisfied: pickleshare in c:\\users\\tamaisme\\desktop\\projects\\python\\project\\sentiment_analysis\\venv\\lib\\site-packages (from ipython) (0.7.5)\n",
      "Requirement already satisfied: prompt-toolkit!=3.0.37,<3.1.0,>=3.0.30 in c:\\users\\tamaisme\\desktop\\projects\\python\\project\\sentiment_analysis\\venv\\lib\\site-packages (from ipython) (3.0.48)\n",
      "Requirement already satisfied: pygments>=2.4.0 in c:\\users\\tamaisme\\desktop\\projects\\python\\project\\sentiment_analysis\\venv\\lib\\site-packages (from ipython) (2.18.0)\n",
      "Requirement already satisfied: colorama in c:\\users\\tamaisme\\desktop\\projects\\python\\project\\sentiment_analysis\\venv\\lib\\site-packages (from ipython) (0.4.6)\n",
      "Requirement already satisfied: jedi>=0.16 in c:\\users\\tamaisme\\desktop\\projects\\python\\project\\sentiment_analysis\\venv\\lib\\site-packages (from ipython) (0.19.1)\n",
      "Requirement already satisfied: matplotlib-inline in c:\\users\\tamaisme\\desktop\\projects\\python\\project\\sentiment_analysis\\venv\\lib\\site-packages (from ipython) (0.1.7)\n",
      "Requirement already satisfied: decorator in c:\\users\\tamaisme\\desktop\\projects\\python\\project\\sentiment_analysis\\venv\\lib\\site-packages (from ipython) (5.1.1)\n",
      "Requirement already satisfied: backcall in c:\\users\\tamaisme\\desktop\\projects\\python\\project\\sentiment_analysis\\venv\\lib\\site-packages (from ipython) (0.2.0)\n",
      "Requirement already satisfied: stack-data in c:\\users\\tamaisme\\desktop\\projects\\python\\project\\sentiment_analysis\\venv\\lib\\site-packages (from ipython) (0.6.3)\n",
      "Requirement already satisfied: parso<0.9.0,>=0.8.3 in c:\\users\\tamaisme\\desktop\\projects\\python\\project\\sentiment_analysis\\venv\\lib\\site-packages (from jedi>=0.16->ipython) (0.8.4)\n",
      "Requirement already satisfied: wcwidth in c:\\users\\tamaisme\\desktop\\projects\\python\\project\\sentiment_analysis\\venv\\lib\\site-packages (from prompt-toolkit!=3.0.37,<3.1.0,>=3.0.30->ipython) (0.2.13)\n",
      "Requirement already satisfied: asttokens>=2.1.0 in c:\\users\\tamaisme\\desktop\\projects\\python\\project\\sentiment_analysis\\venv\\lib\\site-packages (from stack-data->ipython) (2.4.1)\n",
      "Requirement already satisfied: pure-eval in c:\\users\\tamaisme\\desktop\\projects\\python\\project\\sentiment_analysis\\venv\\lib\\site-packages (from stack-data->ipython) (0.2.3)\n",
      "Requirement already satisfied: executing>=1.2.0 in c:\\users\\tamaisme\\desktop\\projects\\python\\project\\sentiment_analysis\\venv\\lib\\site-packages (from stack-data->ipython) (2.1.0)\n",
      "Requirement already satisfied: six>=1.12.0 in c:\\users\\tamaisme\\desktop\\projects\\python\\project\\sentiment_analysis\\venv\\lib\\site-packages (from asttokens>=2.1.0->stack-data->ipython) (1.16.0)\n",
      "Note: you may need to restart the kernel to use updated packages.\n"
     ]
    },
    {
     "name": "stderr",
     "output_type": "stream",
     "text": [
      "WARNING: You are using pip version 21.2.3; however, version 24.3.1 is available.\n",
      "You should consider upgrading via the 'c:\\Users\\tamaisme\\Desktop\\Projects\\PYTHON\\PROJECT\\sentiment_analysis\\venv\\Scripts\\python.exe -m pip install --upgrade pip' command.\n"
     ]
    }
   ],
   "source": [
    "%pip install ipython\n",
    "\n",
    "import os\n",
    "import sys\n",
    "from IPython.display import display, Markdown"
   ]
  },
  {
   "cell_type": "code",
   "execution_count": 7,
   "metadata": {},
   "outputs": [
    {
     "data": {
      "text/markdown": [
       "ℹ️ Virtual environment already exists"
      ],
      "text/plain": [
       "<IPython.core.display.Markdown object>"
      ]
     },
     "metadata": {},
     "output_type": "display_data"
    }
   ],
   "source": [
    "# Tạo virtual environment\n",
    "def create_venv():\n",
    "    venv_path = '../venv'\n",
    "    if not os.path.exists(venv_path):\n",
    "        !python -m venv {venv_path}\n",
    "        display(Markdown(\"✅ Virtual environment created at 'venv'\"))\n",
    "    else:\n",
    "        display(Markdown(\"ℹ️ Virtual environment already exists\"))\n",
    "    return venv_path\n",
    "\n",
    "venv_path = create_venv()"
   ]
  },
  {
   "cell_type": "code",
   "execution_count": 8,
   "metadata": {},
   "outputs": [
    {
     "name": "stderr",
     "output_type": "stream",
     "text": [
      "'..' is not recognized as an internal or external command,\n",
      "operable program or batch file.\n",
      "'..' is not recognized as an internal or external command,\n",
      "operable program or batch file.\n"
     ]
    },
    {
     "data": {
      "text/markdown": [
       "✅ Dependencies installed"
      ],
      "text/plain": [
       "<IPython.core.display.Markdown object>"
      ]
     },
     "metadata": {},
     "output_type": "display_data"
    }
   ],
   "source": [
    "# Cài đặt dependencies trong venv\n",
    "def install_dependencies():\n",
    "    if sys.platform.startswith('win'):\n",
    "        pip_path = os.path.join(venv_path, 'Scripts', 'pip')\n",
    "    else:\n",
    "        pip_path = os.path.join(venv_path, 'bin', 'pip')\n",
    "        \n",
    "    # Cài đặt jupyter trong venv\n",
    "    !{pip_path} install jupyter ipykernel\n",
    "    \n",
    "    # Cài đặt project và dependencies\n",
    "    !{pip_path} install -e ..\n",
    "    \n",
    "    display(Markdown(\"✅ Dependencies installed\"))\n",
    "\n",
    "install_dependencies()"
   ]
  },
  {
   "cell_type": "code",
   "execution_count": 9,
   "metadata": {},
   "outputs": [
    {
     "name": "stderr",
     "output_type": "stream",
     "text": [
      "'..' is not recognized as an internal or external command,\n",
      "operable program or batch file.\n"
     ]
    },
    {
     "data": {
      "text/markdown": [
       "✅ Jupyter kernel installed"
      ],
      "text/plain": [
       "<IPython.core.display.Markdown object>"
      ]
     },
     "metadata": {},
     "output_type": "display_data"
    }
   ],
   "source": [
    "# Cài đặt Jupyter kernel cho venv\n",
    "def setup_jupyter_kernel():\n",
    "    if sys.platform.startswith('win'):\n",
    "        python_path = os.path.join(venv_path, 'Scripts', 'python')\n",
    "    else:\n",
    "        python_path = os.path.join(venv_path, 'bin', 'python')\n",
    "        \n",
    "    !{python_path} -m ipykernel install --user --name=sentiment_analysis --display-name=\"Python (Sentiment Analysis)\"\n",
    "    display(Markdown(\"✅ Jupyter kernel installed\"))\n",
    "\n",
    "setup_jupyter_kernel()"
   ]
  },
  {
   "cell_type": "code",
   "execution_count": 10,
   "metadata": {},
   "outputs": [
    {
     "name": "stderr",
     "output_type": "stream",
     "text": [
      "[nltk_data] Downloading package punkt to\n",
      "[nltk_data]     C:\\Users\\tamaisme\\AppData\\Roaming\\nltk_data...\n",
      "[nltk_data]   Package punkt is already up-to-date!\n",
      "[nltk_data] Downloading package stopwords to\n",
      "[nltk_data]     C:\\Users\\tamaisme\\AppData\\Roaming\\nltk_data...\n",
      "[nltk_data]   Package stopwords is already up-to-date!\n"
     ]
    },
    {
     "data": {
      "text/markdown": [
       "✅ NLTK data downloaded"
      ],
      "text/plain": [
       "<IPython.core.display.Markdown object>"
      ]
     },
     "metadata": {},
     "output_type": "display_data"
    }
   ],
   "source": [
    "# Tải dữ liệu NLTK cần thiết\n",
    "def download_nltk_data():\n",
    "    import nltk\n",
    "    nltk.download('punkt')\n",
    "    nltk.download('stopwords')\n",
    "    display(Markdown(\"✅ NLTK data downloaded\"))\n",
    "\n",
    "download_nltk_data()"
   ]
  },
  {
   "cell_type": "markdown",
   "metadata": {},
   "source": [
    "## Hướng dẫn sử dụng\n",
    "\n",
    "1. Sau khi chạy notebook này, restart Jupyter Server\n",
    "2. Khi tạo notebook mới, chọn kernel \"Python (Sentiment Analysis)\"\n",
    "3. Kiểm tra cài đặt bằng cách chạy code sau trong notebook mới:\n",
    "\n",
    "```python\n",
    "import nltk\n",
    "import underthesea\n",
    "print(\"Environment ready!\")\n",
    "```"
   ]
  }
 ],
 "metadata": {
  "kernelspec": {
   "display_name": "venv",
   "language": "python",
   "name": "python3"
  },
  "language_info": {
   "codemirror_mode": {
    "name": "ipython",
    "version": 3
   },
   "file_extension": ".py",
   "mimetype": "text/x-python",
   "name": "python",
   "nbconvert_exporter": "python",
   "pygments_lexer": "ipython3",
   "version": "3.10.0"
  }
 },
 "nbformat": 4,
 "nbformat_minor": 2
}
