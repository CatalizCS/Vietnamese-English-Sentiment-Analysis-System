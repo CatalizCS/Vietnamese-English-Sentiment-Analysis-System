{
 "cells": [
  {
   "cell_type": "markdown",
   "metadata": {},
   "source": [
    "# Data Labeling Tool for Sentiment Analysis\n",
    "\n",
    "Tool này giúp gán nhãn sentiment cho các câu input và lưu thành file CSV để training."
   ]
  },
  {
   "cell_type": "code",
   "execution_count": 1,
   "metadata": {},
   "outputs": [],
   "source": [
    "import pandas as pd\n",
    "import os\n",
    "from IPython.display import display, clear_output\n",
    "import ipywidgets as widgets"
   ]
  },
  {
   "cell_type": "code",
   "execution_count": 2,
   "metadata": {},
   "outputs": [],
   "source": [
    "class SentimentLabeler:\n",
    "    def __init__(self, language):\n",
    "        self.language = language\n",
    "        self.data = []\n",
    "        self.setup_widgets()\n",
    "        \n",
    "    def setup_widgets(self):\n",
    "        self.text_input = widgets.Textarea(\n",
    "            placeholder='Nhập văn bản cần gán nhãn ở đây...' if self.language == 'vi' else 'Enter text to label here...',\n",
    "            layout={'width': '100%', 'height': '100px'}\n",
    "        )\n",
    "        \n",
    "        self.label_buttons = [\n",
    "            widgets.Button(description='Tích cực / Positive', button_style='success'),\n",
    "            widgets.Button(description='Tiêu cực / Negative', button_style='danger'),\n",
    "            widgets.Button(description='Trung tính / Neutral', button_style='info')\n",
    "        ]\n",
    "        \n",
    "        for btn in self.label_buttons:\n",
    "            btn.on_click(self.on_button_clicked)\n",
    "        \n",
    "        self.save_button = widgets.Button(\n",
    "            description='Lưu dữ liệu / Save data',\n",
    "            button_style='warning'\n",
    "        )\n",
    "        self.save_button.on_click(self.save_data)\n",
    "        \n",
    "        self.output = widgets.Output()\n",
    "        \n",
    "    def display(self):\n",
    "        display(self.text_input)\n",
    "        display(widgets.HBox(self.label_buttons))\n",
    "        display(self.save_button)\n",
    "        display(self.output)\n",
    "        \n",
    "    def on_button_clicked(self, btn):\n",
    "        text = self.text_input.value.strip()\n",
    "        if not text:\n",
    "            return\n",
    "            \n",
    "        label_map = {\n",
    "            'Tích cực / Positive': 'positive',\n",
    "            'Tiêu cực / Negative': 'negative',\n",
    "            'Trung tính / Neutral': 'neutral'\n",
    "        }\n",
    "        \n",
    "        self.data.append({\n",
    "            'text': text,\n",
    "            'label': label_map[btn.description]\n",
    "        })\n",
    "        \n",
    "        with self.output:\n",
    "            clear_output()\n",
    "            print(f\"Đã gán nhãn {len(self.data)} câu\" if self.language == 'vi' else f\"Labeled {len(self.data)} sentences\")\n",
    "            \n",
    "        self.text_input.value = ''\n",
    "        \n",
    "    def save_data(self, btn):\n",
    "        if not self.data:\n",
    "            return\n",
    "            \n",
    "        df = pd.DataFrame(self.data)\n",
    "        \n",
    "        # Ensure data directory exists\n",
    "        os.makedirs('../data/raw', exist_ok=True)\n",
    "        \n",
    "        # Save to CSV\n",
    "        output_path = f'../data/raw/{self.language}_social_media_manual.csv'\n",
    "        \n",
    "        # If file exists, append to it\n",
    "        if os.path.exists(output_path):\n",
    "            existing_df = pd.read_csv(output_path)\n",
    "            df = pd.concat([existing_df, df], ignore_index=True)\n",
    "        \n",
    "        df.to_csv(output_path, index=False)\n",
    "        \n",
    "        with self.output:\n",
    "            clear_output()\n",
    "            print(f\"Đã lưu {len(df)} câu vào {output_path}\" if self.language == 'vi' \n",
    "                  else f\"Saved {len(df)} sentences to {output_path}\")"
   ]
  },
  {
   "cell_type": "markdown",
   "metadata": {},
   "source": [
    "## Gán nhãn cho Tiếng Việt / Vietnamese Labeling"
   ]
  },
  {
   "cell_type": "code",
   "execution_count": 3,
   "metadata": {},
   "outputs": [
    {
     "data": {
      "application/vnd.jupyter.widget-view+json": {
       "model_id": "efa2d001d8d34bcb92ad9f8c5eee3ed7",
       "version_major": 2,
       "version_minor": 0
      },
      "text/plain": [
       "Textarea(value='', layout=Layout(height='100px', width='100%'), placeholder='Nhập văn bản cần gán nhãn ở đây..…"
      ]
     },
     "metadata": {},
     "output_type": "display_data"
    },
    {
     "data": {
      "application/vnd.jupyter.widget-view+json": {
       "model_id": "b009a31b0304491fb9c612c0246d8ef7",
       "version_major": 2,
       "version_minor": 0
      },
      "text/plain": [
       "HBox(children=(Button(button_style='success', description='Tích cực / Positive', style=ButtonStyle()), Button(…"
      ]
     },
     "metadata": {},
     "output_type": "display_data"
    },
    {
     "data": {
      "application/vnd.jupyter.widget-view+json": {
       "model_id": "5db87944ebe24d24960f81e39a41c3e2",
       "version_major": 2,
       "version_minor": 0
      },
      "text/plain": [
       "Button(button_style='warning', description='Lưu dữ liệu / Save data', style=ButtonStyle())"
      ]
     },
     "metadata": {},
     "output_type": "display_data"
    },
    {
     "data": {
      "application/vnd.jupyter.widget-view+json": {
       "model_id": "e6111b751db54876859f23bb541a284e",
       "version_major": 2,
       "version_minor": 0
      },
      "text/plain": [
       "Output()"
      ]
     },
     "metadata": {},
     "output_type": "display_data"
    }
   ],
   "source": [
    "vi_labeler = SentimentLabeler('vi')\n",
    "vi_labeler.display()"
   ]
  },
  {
   "cell_type": "markdown",
   "metadata": {},
   "source": [
    "## Gán nhãn cho Tiếng Anh / English Labeling"
   ]
  },
  {
   "cell_type": "code",
   "execution_count": 4,
   "metadata": {},
   "outputs": [
    {
     "data": {
      "application/vnd.jupyter.widget-view+json": {
       "model_id": "719f33b627df48d59de15d2f06201db1",
       "version_major": 2,
       "version_minor": 0
      },
      "text/plain": [
       "Textarea(value='', layout=Layout(height='100px', width='100%'), placeholder='Enter text to label here...')"
      ]
     },
     "metadata": {},
     "output_type": "display_data"
    },
    {
     "data": {
      "application/vnd.jupyter.widget-view+json": {
       "model_id": "1504f750d6f442ad8a21f88d92c3a5bf",
       "version_major": 2,
       "version_minor": 0
      },
      "text/plain": [
       "HBox(children=(Button(button_style='success', description='Tích cực / Positive', style=ButtonStyle()), Button(…"
      ]
     },
     "metadata": {},
     "output_type": "display_data"
    },
    {
     "data": {
      "application/vnd.jupyter.widget-view+json": {
       "model_id": "84e43e2b91bc464caf45e2f8f9e64a73",
       "version_major": 2,
       "version_minor": 0
      },
      "text/plain": [
       "Button(button_style='warning', description='Lưu dữ liệu / Save data', style=ButtonStyle())"
      ]
     },
     "metadata": {},
     "output_type": "display_data"
    },
    {
     "data": {
      "application/vnd.jupyter.widget-view+json": {
       "model_id": "8a1df89cb17947c28f98a942ec6fc93c",
       "version_major": 2,
       "version_minor": 0
      },
      "text/plain": [
       "Output()"
      ]
     },
     "metadata": {},
     "output_type": "display_data"
    }
   ],
   "source": [
    "en_labeler = SentimentLabeler('en')\n",
    "en_labeler.display()"
   ]
  }
 ],
 "metadata": {
  "kernelspec": {
   "display_name": "venv",
   "language": "python",
   "name": "python3"
  },
  "language_info": {
   "codemirror_mode": {
    "name": "ipython",
    "version": 3
   },
   "file_extension": ".py",
   "mimetype": "text/x-python",
   "name": "python",
   "nbconvert_exporter": "python",
   "pygments_lexer": "ipython3",
   "version": "3.10.0"
  }
 },
 "nbformat": 4,
 "nbformat_minor": 2
}
