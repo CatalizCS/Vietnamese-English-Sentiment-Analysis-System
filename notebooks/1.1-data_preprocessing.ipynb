{
 "cells": [
  {
   "cell_type": "markdown",
   "metadata": {},
   "source": [
    "# Data Preprocessing for Sentiment Analysis\n",
    "\n",
    "This notebook processes raw data for both Vietnamese and English sentiment analysis."
   ]
  },
  {
   "cell_type": "code",
   "execution_count": 1,
   "metadata": {},
   "outputs": [],
   "source": [
    "import sys\n",
    "import os\n",
    "\n",
    "# Add project root to path\n",
    "project_root = os.path.abspath(os.path.join(os.getcwd(), '..'))\n",
    "sys.path.append(project_root)\n",
    "\n",
    "from src.config import Config\n",
    "from src.data.data_loader import DataLoader\n",
    "from src.data.preprocessor import DataPreprocessor"
   ]
  },
  {
   "cell_type": "code",
   "execution_count": 2,
   "metadata": {},
   "outputs": [],
   "source": [
    "# Initialize configuration and objects\n",
    "config = Config()\n",
    "data_loader = DataLoader(config)\n",
    "\n",
    "# Create processed data directory if it doesn't exist\n",
    "processed_dir = os.path.join(config.DATA_DIR, 'processed')\n",
    "os.makedirs(processed_dir, exist_ok=True)"
   ]
  },
  {
   "cell_type": "markdown",
   "metadata": {},
   "source": [
    "## Process Vietnamese Data"
   ]
  },
  {
   "cell_type": "code",
   "execution_count": 3,
   "metadata": {},
   "outputs": [
    {
     "name": "stdout",
     "output_type": "stream",
     "text": [
      "2024-11-17 04:23:15,251 - src.data.data_loader - INFO - Valid samples after validation: 19873\n",
      "Loaded Vietnamese data shape: (19873, 2)\n",
      "2024-11-17 04:23:15,255 - src.data.preprocessor - INFO - Preprocessing vi data...\n",
      "2024-11-17 04:23:26,402 - src.data.preprocessor - INFO - Preprocessed 15345 valid samples\n",
      "Processed Vietnamese data shape: (15345, 3)\n",
      "2024-11-17 04:23:26,447 - src.data.preprocessor - INFO - Saved processed data to c:\\Users\\tamaisme\\Desktop\\Projects\\PYTHON\\PROJECT\\sentiment_analysis\\data\\processed\\vi_processed_data.csv\n"
     ]
    }
   ],
   "source": [
    "# Load and process Vietnamese data\n",
    "vi_preprocessor = DataPreprocessor('vi', config)\n",
    "\n",
    "# Load raw Vietnamese data\n",
    "vi_data = data_loader.load_data('vi')\n",
    "print(f\"Loaded Vietnamese data shape: {vi_data.shape}\")\n",
    "\n",
    "# Preprocess Vietnamese data\n",
    "vi_processed = vi_preprocessor.preprocess(vi_data)\n",
    "print(f\"Processed Vietnamese data shape: {vi_processed.shape}\")\n",
    "\n",
    "# Save processed Vietnamese data\n",
    "output_path = os.path.join(processed_dir, 'vi_processed_data.csv')\n",
    "vi_preprocessor.save_processed_data(vi_processed, output_path)"
   ]
  },
  {
   "cell_type": "markdown",
   "metadata": {},
   "source": [
    "## Process English Data"
   ]
  },
  {
   "cell_type": "code",
   "execution_count": 4,
   "metadata": {},
   "outputs": [
    {
     "name": "stdout",
     "output_type": "stream",
     "text": [
      "2024-11-17 04:23:26,733 - src.data.data_loader - INFO - Valid samples after validation: 21769\n",
      "Loaded English data shape: (21769, 2)\n",
      "2024-11-17 04:23:26,736 - src.data.preprocessor - INFO - Preprocessing en data...\n",
      "2024-11-17 04:23:26,736 - src.data.preprocessor - INFO - Preprocessing en data...\n"
     ]
    },
    {
     "name": "stderr",
     "output_type": "stream",
     "text": [
      "[nltk_data] Downloading package punkt to\n",
      "[nltk_data]     C:\\Users\\tamaisme\\AppData\\Roaming\\nltk_data...\n",
      "[nltk_data]   Package punkt is already up-to-date!\n",
      "[nltk_data] Downloading package punkt_tab to\n",
      "[nltk_data]     C:\\Users\\tamaisme\\AppData\\Roaming\\nltk_data...\n",
      "[nltk_data]   Package punkt_tab is already up-to-date!\n"
     ]
    },
    {
     "name": "stdout",
     "output_type": "stream",
     "text": [
      "2024-11-17 04:23:32,409 - src.data.preprocessor - INFO - Preprocessed 19967 valid samples\n",
      "2024-11-17 04:23:32,409 - src.data.preprocessor - INFO - Preprocessed 19967 valid samples\n",
      "Processed English data shape: (19967, 3)\n",
      "2024-11-17 04:23:32,470 - src.data.preprocessor - INFO - Saved processed data to c:\\Users\\tamaisme\\Desktop\\Projects\\PYTHON\\PROJECT\\sentiment_analysis\\data\\processed\\en_processed_data.csv\n",
      "2024-11-17 04:23:32,470 - src.data.preprocessor - INFO - Saved processed data to c:\\Users\\tamaisme\\Desktop\\Projects\\PYTHON\\PROJECT\\sentiment_analysis\\data\\processed\\en_processed_data.csv\n"
     ]
    }
   ],
   "source": [
    "import nltk\n",
    "\n",
    "# Download the 'punkt' resource\n",
    "nltk.download('punkt')\n",
    "nltk.download('punkt_tab')\n",
    "\n",
    "# Load and process English data\n",
    "en_preprocessor = DataPreprocessor('en', config)\n",
    "\n",
    "# Load raw English data\n",
    "en_data = data_loader.load_data('en')\n",
    "print(f\"Loaded English data shape: {en_data.shape}\")\n",
    "\n",
    "# Preprocess English data\n",
    "en_processed = en_preprocessor.preprocess(en_data)\n",
    "print(f\"Processed English data shape: {en_processed.shape}\")\n",
    "\n",
    "# Save processed English data\n",
    "output_path = os.path.join(processed_dir, 'en_processed_data.csv')\n",
    "en_preprocessor.save_processed_data(en_processed, output_path)"
   ]
  },
  {
   "cell_type": "markdown",
   "metadata": {},
   "source": [
    "## Data Quality Check"
   ]
  },
  {
   "cell_type": "code",
   "execution_count": 5,
   "metadata": {},
   "outputs": [
    {
     "name": "stdout",
     "output_type": "stream",
     "text": [
      "\n",
      "Quality check for Vietnamese data:\n",
      "Number of samples: 15345\n",
      "Number of empty texts: 0\n",
      "Label distribution:\n",
      "label\n",
      "0    6654\n",
      "2    6155\n",
      "1    2536\n",
      "Name: count, dtype: int64\n",
      "\n",
      "Sample processed texts:\n",
      "          text cleaned_text\n",
      "0     xin code     xin code\n",
      "1  Bình thường  bình thường\n",
      "2      rất tốt      rất tốt\n",
      "3      nói hay      nói hay\n",
      "4      Như c c      như c c\n",
      "\n",
      "Quality check for English data:\n",
      "Number of samples: 19967\n",
      "Number of empty texts: 0\n",
      "Label distribution:\n",
      "label\n",
      "2    9073\n",
      "0    8404\n",
      "1    2490\n",
      "Name: count, dtype: int64\n",
      "\n",
      "Sample processed texts:\n",
      "                                                text  \\\n",
      "0                                             Khushi   \n",
      "1                                               good   \n",
      "2                                  blessings forward   \n",
      "3  As an ardent member, I feel pruvikedged to bel...   \n",
      "4                                               good   \n",
      "\n",
      "                                        cleaned_text  \n",
      "0                                             khushi  \n",
      "1                                               good  \n",
      "2                                  blessings forward  \n",
      "3  ardent member feel pruvikedged belong mighty f...  \n",
      "4                                               good  \n"
     ]
    }
   ],
   "source": [
    "# Check processed data\n",
    "def check_processed_data(df, language):\n",
    "    print(f\"\\nQuality check for {language} data:\")\n",
    "    print(f\"Number of samples: {len(df)}\")\n",
    "    print(f\"Number of empty texts: {df['cleaned_text'].isna().sum()}\")\n",
    "    print(f\"Label distribution:\\n{df['label'].value_counts()}\")\n",
    "    print(\"\\nSample processed texts:\")\n",
    "    print(df[['text', 'cleaned_text']].head())\n",
    "\n",
    "check_processed_data(vi_processed, 'Vietnamese')\n",
    "check_processed_data(en_processed, 'English')"
   ]
  },
  {
   "cell_type": "markdown",
   "metadata": {},
   "source": [
    "## Process Manual Data"
   ]
  },
  {
   "cell_type": "code",
   "execution_count": 6,
   "metadata": {},
   "outputs": [
    {
     "name": "stdout",
     "output_type": "stream",
     "text": [
      "2024-11-17 04:23:32,521 - src.data.data_loader - WARNING - No manual data found for vi at c:\\Users\\tamaisme\\Desktop\\Projects\\PYTHON\\PROJECT\\sentiment_analysis\\data\\raw\\vi_manual_labeled.csv\n",
      "\n",
      "Loaded vi manual data shape: (0, 2)\n",
      "2024-11-17 04:23:32,524 - src.data.preprocessor - INFO - Preprocessing vi data...\n",
      "2024-11-17 04:23:32,524 - src.data.preprocessor - INFO - Preprocessing vi data...\n",
      "2024-11-17 04:23:32,524 - src.data.preprocessor - INFO - Preprocessing vi data...\n",
      "2024-11-17 04:23:32,526 - src.data.preprocessor - ERROR - Preprocessing error: Empty input data\n",
      "2024-11-17 04:23:32,526 - src.data.preprocessor - ERROR - Preprocessing error: Empty input data\n",
      "2024-11-17 04:23:32,526 - src.data.preprocessor - ERROR - Preprocessing error: Empty input data\n",
      "Processed vi manual data shape: (0, 3)\n",
      "2024-11-17 04:23:32,531 - src.data.preprocessor - INFO - Saved processed data to c:\\Users\\tamaisme\\Desktop\\Projects\\PYTHON\\PROJECT\\sentiment_analysis\\data\\processed\\vi_manual_processed.csv\n",
      "2024-11-17 04:23:32,531 - src.data.preprocessor - INFO - Saved processed data to c:\\Users\\tamaisme\\Desktop\\Projects\\PYTHON\\PROJECT\\sentiment_analysis\\data\\processed\\vi_manual_processed.csv\n",
      "2024-11-17 04:23:32,531 - src.data.preprocessor - INFO - Saved processed data to c:\\Users\\tamaisme\\Desktop\\Projects\\PYTHON\\PROJECT\\sentiment_analysis\\data\\processed\\vi_manual_processed.csv\n",
      "\n",
      "Quality check for VI Manual data:\n",
      "Number of samples: 0\n",
      "Number of empty texts: 0\n",
      "Label distribution:\n",
      "Series([], Name: count, dtype: int64)\n",
      "\n",
      "Sample processed texts:\n",
      "Empty DataFrame\n",
      "Columns: [text, cleaned_text]\n",
      "Index: []\n",
      "2024-11-17 04:23:32,538 - src.data.data_loader - WARNING - No manual data found for en at c:\\Users\\tamaisme\\Desktop\\Projects\\PYTHON\\PROJECT\\sentiment_analysis\\data\\raw\\en_manual_labeled.csv\n",
      "\n",
      "Loaded en manual data shape: (0, 2)\n",
      "2024-11-17 04:23:32,540 - src.data.preprocessor - INFO - Preprocessing en data...\n",
      "2024-11-17 04:23:32,540 - src.data.preprocessor - INFO - Preprocessing en data...\n",
      "2024-11-17 04:23:32,540 - src.data.preprocessor - INFO - Preprocessing en data...\n",
      "2024-11-17 04:23:32,540 - src.data.preprocessor - INFO - Preprocessing en data...\n",
      "2024-11-17 04:23:32,543 - src.data.preprocessor - ERROR - Preprocessing error: Empty input data\n",
      "2024-11-17 04:23:32,543 - src.data.preprocessor - ERROR - Preprocessing error: Empty input data\n",
      "2024-11-17 04:23:32,543 - src.data.preprocessor - ERROR - Preprocessing error: Empty input data\n",
      "2024-11-17 04:23:32,543 - src.data.preprocessor - ERROR - Preprocessing error: Empty input data\n",
      "Processed en manual data shape: (0, 3)\n",
      "2024-11-17 04:23:32,547 - src.data.preprocessor - INFO - Saved processed data to c:\\Users\\tamaisme\\Desktop\\Projects\\PYTHON\\PROJECT\\sentiment_analysis\\data\\processed\\en_manual_processed.csv\n",
      "2024-11-17 04:23:32,547 - src.data.preprocessor - INFO - Saved processed data to c:\\Users\\tamaisme\\Desktop\\Projects\\PYTHON\\PROJECT\\sentiment_analysis\\data\\processed\\en_manual_processed.csv\n",
      "2024-11-17 04:23:32,547 - src.data.preprocessor - INFO - Saved processed data to c:\\Users\\tamaisme\\Desktop\\Projects\\PYTHON\\PROJECT\\sentiment_analysis\\data\\processed\\en_manual_processed.csv\n",
      "2024-11-17 04:23:32,547 - src.data.preprocessor - INFO - Saved processed data to c:\\Users\\tamaisme\\Desktop\\Projects\\PYTHON\\PROJECT\\sentiment_analysis\\data\\processed\\en_manual_processed.csv\n",
      "\n",
      "Quality check for EN Manual data:\n",
      "Number of samples: 0\n",
      "Number of empty texts: 0\n",
      "Label distribution:\n",
      "Series([], Name: count, dtype: int64)\n",
      "\n",
      "Sample processed texts:\n",
      "Empty DataFrame\n",
      "Columns: [text, cleaned_text]\n",
      "Index: []\n"
     ]
    }
   ],
   "source": [
    "# Load and process manual data for both languages\n",
    "for lang in ['vi', 'en']:\n",
    "    # Initialize preprocessor\n",
    "    preprocessor = DataPreprocessor(lang, config)\n",
    "    \n",
    "    # Load manual data\n",
    "    manual_data = data_loader.load_manual_data(lang)\n",
    "    print(f\"\\nLoaded {lang} manual data shape: {manual_data.shape}\")\n",
    "    \n",
    "    # Preprocess manual data\n",
    "    manual_processed = preprocessor.preprocess(manual_data)\n",
    "    print(f\"Processed {lang} manual data shape: {manual_processed.shape}\")\n",
    "    \n",
    "    # Save processed manual data\n",
    "    output_path = os.path.join(processed_dir, f'{lang}_manual_processed.csv')\n",
    "    preprocessor.save_processed_data(manual_processed, output_path)\n",
    "    \n",
    "    # Quality check\n",
    "    check_processed_data(manual_processed, f'{lang.upper()} Manual')"
   ]
  }
 ],
 "metadata": {
  "kernelspec": {
   "display_name": "venv",
   "language": "python",
   "name": "python3"
  },
  "language_info": {
   "codemirror_mode": {
    "name": "ipython",
    "version": 3
   },
   "file_extension": ".py",
   "mimetype": "text/x-python",
   "name": "python",
   "nbconvert_exporter": "python",
   "pygments_lexer": "ipython3",
   "version": "3.10.0"
  }
 },
 "nbformat": 4,
 "nbformat_minor": 2
}
