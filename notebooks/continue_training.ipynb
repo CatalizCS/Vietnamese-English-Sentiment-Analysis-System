{
 "cells": [
  {
   "cell_type": "markdown",
   "metadata": {},
   "source": [
    "# Continue Training Sentiment Analysis Model\n",
    "\n",
    "Notebook này cho phép:\n",
    "1. Khôi phục model từ checkpoint\n",
    "2. Tiếp tục train với dữ liệu mới\n",
    "3. Đánh giá và lưu kết quả training"
   ]
  },
  {
   "cell_type": "code",
   "execution_count": 7,
   "metadata": {},
   "outputs": [],
   "source": [
    "import os\n",
    "import sys\n",
    "project_root = os.path.dirname(os.path.dirname(os.path.abspath('')))\n",
    "sys.path.append(project_root)\n",
    "\n",
    "from src.config import Config\n",
    "from src.models.model_trainer import EnhancedModelTrainer\n",
    "from src.data.data_loader import DataLoader\n",
    "from src.data.preprocessor import DataPreprocessor\n",
    "from src.features.feature_engineering import FeatureExtractor\n",
    "import pandas as pd\n",
    "import numpy as np\n",
    "from IPython.display import display, Markdown"
   ]
  },
  {
   "cell_type": "code",
   "execution_count": 8,
   "metadata": {},
   "outputs": [
    {
     "name": "stdout",
     "output_type": "stream",
     "text": [
      "Loaded feature extractor with None dimensions\n"
     ]
    }
   ],
   "source": [
    "# Khởi tạo config và components\n",
    "config = Config()\n",
    "language = 'vi'  # hoặc 'en'\n",
    "\n",
    "trainer = EnhancedModelTrainer(language, config)\n",
    "preprocessor = DataPreprocessor(language, config)\n",
    "feature_extractor = FeatureExtractor(language, config)"
   ]
  },
  {
   "cell_type": "code",
   "execution_count": 9,
   "metadata": {},
   "outputs": [
    {
     "data": {
      "text/markdown": [
       "## Available Checkpoints"
      ],
      "text/plain": [
       "<IPython.core.display.Markdown object>"
      ]
     },
     "metadata": {},
     "output_type": "display_data"
    },
    {
     "name": "stdout",
     "output_type": "stream",
     "text": [
      "1. vi_checkpoint.pkl\n",
      "   Timestamp: Unknown\n",
      "   Epoch: Unknown\n"
     ]
    },
    {
     "ename": "TypeError",
     "evalue": "unsupported format string passed to NoneType.__format__",
     "output_type": "error",
     "traceback": [
      "\u001b[1;31m---------------------------------------------------------------------------\u001b[0m",
      "\u001b[1;31mTypeError\u001b[0m                                 Traceback (most recent call last)",
      "Cell \u001b[1;32mIn[9], line 9\u001b[0m\n\u001b[0;32m      7\u001b[0m \u001b[38;5;28mprint\u001b[39m(\u001b[38;5;124mf\u001b[39m\u001b[38;5;124m\"\u001b[39m\u001b[38;5;124m   Timestamp: \u001b[39m\u001b[38;5;132;01m{\u001b[39;00mcp[\u001b[38;5;124m'\u001b[39m\u001b[38;5;124mtimestamp\u001b[39m\u001b[38;5;124m'\u001b[39m]\u001b[38;5;132;01m}\u001b[39;00m\u001b[38;5;124m\"\u001b[39m)\n\u001b[0;32m      8\u001b[0m \u001b[38;5;28mprint\u001b[39m(\u001b[38;5;124mf\u001b[39m\u001b[38;5;124m\"\u001b[39m\u001b[38;5;124m   Epoch: \u001b[39m\u001b[38;5;132;01m{\u001b[39;00mcp[\u001b[38;5;124m'\u001b[39m\u001b[38;5;124mepoch\u001b[39m\u001b[38;5;124m'\u001b[39m]\u001b[38;5;132;01m}\u001b[39;00m\u001b[38;5;124m\"\u001b[39m)\n\u001b[1;32m----> 9\u001b[0m \u001b[38;5;28mprint\u001b[39m(\u001b[38;5;124mf\u001b[39m\u001b[38;5;124m\"\u001b[39m\u001b[38;5;124m   Score: \u001b[39m\u001b[38;5;132;01m{\u001b[39;00mcp[\u001b[38;5;124m'\u001b[39m\u001b[38;5;124mmetrics\u001b[39m\u001b[38;5;124m'\u001b[39m]\u001b[38;5;132;01m:\u001b[39;00m\u001b[38;5;124m.4f if cp[\u001b[39m\u001b[38;5;124m'\u001b[39m\u001b[38;5;124mmetrics\u001b[39m\u001b[38;5;124m'\u001b[39m\u001b[38;5;124m] else \u001b[39m\u001b[38;5;124m'\u001b[39m\u001b[38;5;124mN/A\u001b[39m\u001b[38;5;124m'\u001b[39m\u001b[38;5;132;01m}\u001b[39;00m\u001b[38;5;130;01m\\n\u001b[39;00m\u001b[38;5;124m\"\u001b[39m)\n",
      "\u001b[1;31mTypeError\u001b[0m: unsupported format string passed to NoneType.__format__"
     ]
    }
   ],
   "source": [
    "# Liệt kê các checkpoints có sẵn\n",
    "checkpoints = trainer.list_checkpoints()\n",
    "\n",
    "display(Markdown(\"## Available Checkpoints\"))\n",
    "for i, cp in enumerate(checkpoints):\n",
    "    print(f\"{i+1}. {cp['filename']}\")\n",
    "    print(f\"   Timestamp: {cp['timestamp']}\")\n",
    "    print(f\"   Epoch: {cp['epoch']}\")\n",
    "    print(f\"   Score: {cp['metrics']:.4f if cp['metrics'] else 'N/A'}\\n\")"
   ]
  },
  {
   "cell_type": "code",
   "execution_count": null,
   "metadata": {},
   "outputs": [
    {
     "ename": "ValueError",
     "evalue": "invalid literal for int() with base 10: ''",
     "output_type": "error",
     "traceback": [
      "\u001b[1;31m---------------------------------------------------------------------------\u001b[0m",
      "\u001b[1;31mValueError\u001b[0m                                Traceback (most recent call last)",
      "Cell \u001b[1;32mIn[6], line 3\u001b[0m\n\u001b[0;32m      1\u001b[0m \u001b[38;5;66;03m# Chọn checkpoint để tiếp tục train\u001b[39;00m\n\u001b[0;32m      2\u001b[0m checkpoint_idx \u001b[38;5;241m=\u001b[39m \u001b[38;5;28mint\u001b[39m(\u001b[38;5;28minput\u001b[39m(\u001b[38;5;124m\"\u001b[39m\u001b[38;5;124mEnter checkpoint number (or press Enter for latest): \u001b[39m\u001b[38;5;124m\"\u001b[39m) \u001b[38;5;129;01mor\u001b[39;00m \u001b[38;5;241m0\u001b[39m) \u001b[38;5;241m-\u001b[39m \u001b[38;5;241m1\u001b[39m\n\u001b[1;32m----> 3\u001b[0m num_epochs \u001b[38;5;241m=\u001b[39m \u001b[38;5;28;43mint\u001b[39;49m\u001b[43m(\u001b[49m\u001b[38;5;28;43minput\u001b[39;49m\u001b[43m(\u001b[49m\u001b[38;5;124;43m\"\u001b[39;49m\u001b[38;5;124;43mEnter number of epochs to train: \u001b[39;49m\u001b[38;5;124;43m\"\u001b[39;49m\u001b[43m)\u001b[49m\u001b[43m)\u001b[49m\n\u001b[0;32m      5\u001b[0m \u001b[38;5;28;01mif\u001b[39;00m \u001b[38;5;241m0\u001b[39m \u001b[38;5;241m<\u001b[39m\u001b[38;5;241m=\u001b[39m checkpoint_idx \u001b[38;5;241m<\u001b[39m \u001b[38;5;28mlen\u001b[39m(checkpoints):\n\u001b[0;32m      6\u001b[0m     checkpoint_name \u001b[38;5;241m=\u001b[39m checkpoints[checkpoint_idx][\u001b[38;5;124m'\u001b[39m\u001b[38;5;124mfilename\u001b[39m\u001b[38;5;124m'\u001b[39m]\n",
      "\u001b[1;31mValueError\u001b[0m: invalid literal for int() with base 10: ''"
     ]
    }
   ],
   "source": [
    "# Chọn checkpoint để tiếp tục train\n",
    "checkpoint_idx = int(input(\"Enter checkpoint number (or press Enter for latest): \") or 0) - 1\n",
    "num_epochs = int(input(\"Enter number of epochs to train: \"))\n",
    "\n",
    "if 0 <= checkpoint_idx < len(checkpoints):\n",
    "    checkpoint_name = checkpoints[checkpoint_idx]['filename']\n",
    "else:\n",
    "    checkpoint_name = None"
   ]
  },
  {
   "cell_type": "code",
   "execution_count": null,
   "metadata": {},
   "outputs": [],
   "source": [
    "# Tải dữ liệu training\n",
    "train_file = input(\"Enter training data file path: \")\n",
    "df = pd.read_csv(train_file)\n",
    "\n",
    "# Tiền xử lý dữ liệu\n",
    "processed_df = preprocessor.preprocess(df)\n",
    "print(f\"\\nProcessed {len(processed_df)} samples\")\n",
    "\n",
    "# Chuẩn bị features và labels\n",
    "X_train = processed_df[\"cleaned_text\"] \n",
    "y_train = processed_df[\"label\"]"
   ]
  },
  {
   "cell_type": "code",
   "execution_count": null,
   "metadata": {},
   "outputs": [],
   "source": [
    "# Tiếp tục training\n",
    "model, metrics = trainer.continue_training(\n",
    "    X_train=X_train,\n",
    "    y_train=y_train, \n",
    "    checkpoint_name=checkpoint_name,\n",
    "    num_epochs=num_epochs\n",
    ")"
   ]
  },
  {
   "cell_type": "code",
   "execution_count": null,
   "metadata": {},
   "outputs": [],
   "source": [
    "# Hiển thị kết quả training\n",
    "import matplotlib.pyplot as plt\n",
    "\n",
    "for model_name, model_metrics in metrics['models'].items():\n",
    "    plt.figure(figsize=(10,5))\n",
    "    \n",
    "    train_scores = model_metrics['train_scores']\n",
    "    valid_scores = model_metrics['valid_scores']\n",
    "    epochs = range(1, len(train_scores) + 1)\n",
    "    \n",
    "    plt.plot(epochs, train_scores, 'o-', label='Training')\n",
    "    plt.plot(epochs, valid_scores, 's--', label='Validation')\n",
    "    \n",
    "    plt.title(f'{model_name} Learning Curves')\n",
    "    plt.xlabel('Epoch')\n",
    "    plt.ylabel('Score')\n",
    "    plt.legend()\n",
    "    plt.grid(True)\n",
    "    plt.show()\n",
    "    \n",
    "    print(f\"\\n{model_name} Final Metrics:\")\n",
    "    print(f\"Best Score: {model_metrics['best_score']:.4f}\")\n",
    "    print(f\"Training Time: {model_metrics['training_time']:.2f}s\")"
   ]
  },
  {
   "cell_type": "markdown",
   "metadata": {},
   "source": [
    "## Hướng dẫn sử dụng\n",
    "\n",
    "1. Chọn ngôn ngữ ('vi' hoặc 'en') trong cell thứ 2\n",
    "2. Chọn checkpoint muốn tiếp tục train từ danh sách\n",
    "3. Nhập số epoch muốn train thêm \n",
    "4. Nhập đường dẫn file dữ liệu training (.csv)\n",
    "5. Theo dõi quá trình training và kết quả\n",
    "\n",
    "Model và metrics sẽ được tự động lưu theo checkpoint."
   ]
  }
 ],
 "metadata": {
  "kernelspec": {
   "display_name": "venv",
   "language": "python",
   "name": "python3"
  },
  "language_info": {
   "codemirror_mode": {
    "name": "ipython",
    "version": 3
   },
   "file_extension": ".py",
   "mimetype": "text/x-python",
   "name": "python",
   "nbconvert_exporter": "python",
   "pygments_lexer": "ipython3",
   "version": "3.10.0"
  }
 },
 "nbformat": 4,
 "nbformat_minor": 2
}
