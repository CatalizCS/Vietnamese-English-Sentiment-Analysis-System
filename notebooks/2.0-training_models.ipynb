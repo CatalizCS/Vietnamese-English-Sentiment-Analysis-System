{
 "cells": [
  {
   "cell_type": "markdown",
   "metadata": {},
   "source": [
    "# Sentiment Analysis Model Training\n",
    "\n",
    "This notebook demonstrates the training process for both Vietnamese and English sentiment analysis models."
   ]
  },
  {
   "cell_type": "code",
   "execution_count": 9,
   "metadata": {},
   "outputs": [
    {
     "name": "stdout",
     "output_type": "stream",
     "text": [
      "Requirement already satisfied: utils in c:\\users\\tamaisme\\desktop\\projects\\python\\project\\sentiment_analysis\\venv\\lib\\site-packages (1.0.2)Note: you may need to restart the kernel to use updated packages.\n",
      "\n"
     ]
    },
    {
     "name": "stderr",
     "output_type": "stream",
     "text": [
      "WARNING: You are using pip version 21.2.3; however, version 24.3.1 is available.\n",
      "You should consider upgrading via the 'c:\\Users\\tamaisme\\Desktop\\Projects\\PYTHON\\PROJECT\\sentiment_analysis\\venv\\Scripts\\python.exe -m pip install --upgrade pip' command.\n"
     ]
    }
   ],
   "source": [
    "%pip install utils\n",
    "\n",
    "import os\n",
    "import sys\n",
    "import pandas as pd\n",
    "import numpy as np\n",
    "import matplotlib.pyplot as plt\n",
    "import seaborn as sns\n",
    "\n",
    "# Add project root to path\n",
    "project_root = os.path.abspath(os.path.join(os.getcwd(), '..', '..', 'sentiment_analysis'))\n",
    "sys.path.append(project_root)\n",
    "\n",
    "from src.config import Config\n",
    "from src.data.data_loader import DataLoader\n",
    "from src.data.preprocessor import DataPreprocessor\n",
    "from src.features.feature_engineering import FeatureExtractor\n",
    "from src.models.model_trainer import EnhancedModelTrainer\n",
    "from src.utils.evaluation import ModelEvaluator"
   ]
  },
  {
   "cell_type": "markdown",
   "metadata": {},
   "source": [
    "## 1. Load and Prepare Data"
   ]
  },
  {
   "cell_type": "code",
   "execution_count": 10,
   "metadata": {},
   "outputs": [],
   "source": [
    "def load_and_prepare_data(language: str):\n",
    "    config = Config()\n",
    "    data_loader = DataLoader(config)\n",
    "    preprocessor = DataPreprocessor(language, config)\n",
    "    \n",
    "    # Load data\n",
    "    print(f\"Loading {language} data...\")\n",
    "    df = data_loader.load_data(language)\n",
    "    print(f\"Raw data shape: {df.shape}\")\n",
    "    \n",
    "    # Preprocess\n",
    "    processed_df = preprocessor.preprocess(df)\n",
    "    print(f\"Processed data shape: {processed_df.shape}\")\n",
    "    \n",
    "    # Display class distribution\n",
    "    plt.figure(figsize=(8, 5))\n",
    "    processed_df['label'].value_counts().plot(kind='bar')\n",
    "    plt.title(f'Class Distribution - {language.upper()}')\n",
    "    plt.show()\n",
    "    \n",
    "    return processed_df, config"
   ]
  },
  {
   "cell_type": "markdown",
   "metadata": {},
   "source": [
    "### Vietnamese Data"
   ]
  },
  {
   "cell_type": "code",
   "execution_count": 11,
   "metadata": {},
   "outputs": [
    {
     "name": "stdout",
     "output_type": "stream",
     "text": [
      "Loading vi data...\n",
      "2024-11-11 03:39:33,120 - src.data.data_loader - INFO - Valid samples after validation: 5000\n",
      "2024-11-11 03:39:33,120 - src.data.data_loader - INFO - Valid samples after validation: 5000\n",
      "2024-11-11 03:39:33,120 - src.data.data_loader - INFO - Valid samples after validation: 5000\n",
      "2024-11-11 03:39:33,120 - src.data.data_loader - INFO - Valid samples after validation: 5000\n",
      "2024-11-11 03:39:33,120 - src.data.data_loader - INFO - Valid samples after validation: 5000\n",
      "Raw data shape: (5000, 2)\n",
      "2024-11-11 03:39:33,126 - src.data.preprocessor - INFO - Preprocessing vi data...\n",
      "2024-11-11 03:39:33,126 - src.data.preprocessor - INFO - Preprocessing vi data...\n",
      "2024-11-11 03:39:33,126 - src.data.preprocessor - INFO - Preprocessing vi data...\n",
      "2024-11-11 03:39:33,126 - src.data.preprocessor - INFO - Preprocessing vi data...\n",
      "2024-11-11 03:39:33,126 - src.data.preprocessor - INFO - Preprocessing vi data...\n",
      "2024-11-11 03:39:35,701 - src.data.preprocessor - INFO - Preprocessed 4984 valid samples\n",
      "2024-11-11 03:39:35,701 - src.data.preprocessor - INFO - Preprocessed 4984 valid samples\n",
      "2024-11-11 03:39:35,701 - src.data.preprocessor - INFO - Preprocessed 4984 valid samples\n",
      "2024-11-11 03:39:35,701 - src.data.preprocessor - INFO - Preprocessed 4984 valid samples\n",
      "2024-11-11 03:39:35,701 - src.data.preprocessor - INFO - Preprocessed 4984 valid samples\n",
      "Processed data shape: (4984, 3)\n"
     ]
    },
    {
     "data": {
      "image/png": "[encoded data removed]",
      "text/plain": [
       "<Figure size 800x500 with 1 Axes>"
      ]
     },
     "metadata": {},
     "output_type": "display_data"
    }
   ],
   "source": [
    "vi_df, config = load_and_prepare_data('vi')"
   ]
  },
  {
   "cell_type": "markdown",
   "metadata": {},
   "source": [
    "### English Data"
   ]
  },
  {
   "cell_type": "code",
   "execution_count": 12,
   "metadata": {},
   "outputs": [
    {
     "name": "stdout",
     "output_type": "stream",
     "text": [
      "Loading en data...\n",
      "2024-11-11 03:39:35,815 - src.data.data_loader - WARNING - No valid data after validation\n",
      "2024-11-11 03:39:35,815 - src.data.data_loader - WARNING - No valid data after validation\n",
      "2024-11-11 03:39:35,815 - src.data.data_loader - WARNING - No valid data after validation\n",
      "2024-11-11 03:39:35,815 - src.data.data_loader - WARNING - No valid data after validation\n",
      "2024-11-11 03:39:35,815 - src.data.data_loader - WARNING - No valid data after validation\n",
      "2024-11-11 03:39:35,815 - src.data.data_loader - WARNING - No valid data after validation\n",
      "Raw data shape: (0, 2)\n",
      "2024-11-11 03:39:35,821 - src.data.preprocessor - INFO - Preprocessing en data...\n",
      "2024-11-11 03:39:35,821 - src.data.preprocessor - INFO - Preprocessing en data...\n",
      "2024-11-11 03:39:35,821 - src.data.preprocessor - INFO - Preprocessing en data...\n",
      "2024-11-11 03:39:35,821 - src.data.preprocessor - INFO - Preprocessing en data...\n",
      "2024-11-11 03:39:35,821 - src.data.preprocessor - INFO - Preprocessing en data...\n",
      "2024-11-11 03:39:35,821 - src.data.preprocessor - INFO - Preprocessing en data...\n",
      "2024-11-11 03:39:35,825 - src.data.preprocessor - ERROR - Preprocessing error: Empty input data\n",
      "2024-11-11 03:39:35,825 - src.data.preprocessor - ERROR - Preprocessing error: Empty input data\n",
      "2024-11-11 03:39:35,825 - src.data.preprocessor - ERROR - Preprocessing error: Empty input data\n",
      "2024-11-11 03:39:35,825 - src.data.preprocessor - ERROR - Preprocessing error: Empty input data\n",
      "2024-11-11 03:39:35,825 - src.data.preprocessor - ERROR - Preprocessing error: Empty input data\n",
      "2024-11-11 03:39:35,825 - src.data.preprocessor - ERROR - Preprocessing error: Empty input data\n",
      "Processed data shape: (0, 3)\n"
     ]
    },
    {
     "ename": "IndexError",
     "evalue": "index 0 is out of bounds for axis 0 with size 0",
     "output_type": "error",
     "traceback": [
      "\u001b[1;31m---------------------------------------------------------------------------\u001b[0m",
      "\u001b[1;31mIndexError\u001b[0m                                Traceback (most recent call last)",
      "Cell \u001b[1;32mIn[12], line 1\u001b[0m\n\u001b[1;32m----> 1\u001b[0m en_df, _ \u001b[38;5;241m=\u001b[39m \u001b[43mload_and_prepare_data\u001b[49m\u001b[43m(\u001b[49m\u001b[38;5;124;43m'\u001b[39;49m\u001b[38;5;124;43men\u001b[39;49m\u001b[38;5;124;43m'\u001b[39;49m\u001b[43m)\u001b[49m\n",
      "Cell \u001b[1;32mIn[10], line 17\u001b[0m, in \u001b[0;36mload_and_prepare_data\u001b[1;34m(language)\u001b[0m\n\u001b[0;32m     15\u001b[0m \u001b[38;5;66;03m# Display class distribution\u001b[39;00m\n\u001b[0;32m     16\u001b[0m plt\u001b[38;5;241m.\u001b[39mfigure(figsize\u001b[38;5;241m=\u001b[39m(\u001b[38;5;241m8\u001b[39m, \u001b[38;5;241m5\u001b[39m))\n\u001b[1;32m---> 17\u001b[0m \u001b[43mprocessed_df\u001b[49m\u001b[43m[\u001b[49m\u001b[38;5;124;43m'\u001b[39;49m\u001b[38;5;124;43mlabel\u001b[39;49m\u001b[38;5;124;43m'\u001b[39;49m\u001b[43m]\u001b[49m\u001b[38;5;241;43m.\u001b[39;49m\u001b[43mvalue_counts\u001b[49m\u001b[43m(\u001b[49m\u001b[43m)\u001b[49m\u001b[38;5;241;43m.\u001b[39;49m\u001b[43mplot\u001b[49m\u001b[43m(\u001b[49m\u001b[43mkind\u001b[49m\u001b[38;5;241;43m=\u001b[39;49m\u001b[38;5;124;43m'\u001b[39;49m\u001b[38;5;124;43mbar\u001b[39;49m\u001b[38;5;124;43m'\u001b[39;49m\u001b[43m)\u001b[49m\n\u001b[0;32m     18\u001b[0m plt\u001b[38;5;241m.\u001b[39mtitle(\u001b[38;5;124mf\u001b[39m\u001b[38;5;124m'\u001b[39m\u001b[38;5;124mClass Distribution - \u001b[39m\u001b[38;5;132;01m{\u001b[39;00mlanguage\u001b[38;5;241m.\u001b[39mupper()\u001b[38;5;132;01m}\u001b[39;00m\u001b[38;5;124m'\u001b[39m)\n\u001b[0;32m     19\u001b[0m plt\u001b[38;5;241m.\u001b[39mshow()\n",
      "File \u001b[1;32mc:\\Users\\tamaisme\\Desktop\\Projects\\PYTHON\\PROJECT\\sentiment_analysis\\venv\\lib\\site-packages\\pandas\\plotting\\_core.py:1030\u001b[0m, in \u001b[0;36mPlotAccessor.__call__\u001b[1;34m(self, *args, **kwargs)\u001b[0m\n\u001b[0;32m   1027\u001b[0m             label_name \u001b[38;5;241m=\u001b[39m label_kw \u001b[38;5;129;01mor\u001b[39;00m data\u001b[38;5;241m.\u001b[39mcolumns\n\u001b[0;32m   1028\u001b[0m             data\u001b[38;5;241m.\u001b[39mcolumns \u001b[38;5;241m=\u001b[39m label_name\n\u001b[1;32m-> 1030\u001b[0m \u001b[38;5;28;01mreturn\u001b[39;00m plot_backend\u001b[38;5;241m.\u001b[39mplot(data, kind\u001b[38;5;241m=\u001b[39mkind, \u001b[38;5;241m*\u001b[39m\u001b[38;5;241m*\u001b[39mkwargs)\n",
      "File \u001b[1;32mc:\\Users\\tamaisme\\Desktop\\Projects\\PYTHON\\PROJECT\\sentiment_analysis\\venv\\lib\\site-packages\\pandas\\plotting\\_matplotlib\\__init__.py:71\u001b[0m, in \u001b[0;36mplot\u001b[1;34m(data, kind, **kwargs)\u001b[0m\n\u001b[0;32m     69\u001b[0m         kwargs[\u001b[38;5;124m\"\u001b[39m\u001b[38;5;124max\u001b[39m\u001b[38;5;124m\"\u001b[39m] \u001b[38;5;241m=\u001b[39m \u001b[38;5;28mgetattr\u001b[39m(ax, \u001b[38;5;124m\"\u001b[39m\u001b[38;5;124mleft_ax\u001b[39m\u001b[38;5;124m\"\u001b[39m, ax)\n\u001b[0;32m     70\u001b[0m plot_obj \u001b[38;5;241m=\u001b[39m PLOT_CLASSES[kind](data, \u001b[38;5;241m*\u001b[39m\u001b[38;5;241m*\u001b[39mkwargs)\n\u001b[1;32m---> 71\u001b[0m \u001b[43mplot_obj\u001b[49m\u001b[38;5;241;43m.\u001b[39;49m\u001b[43mgenerate\u001b[49m\u001b[43m(\u001b[49m\u001b[43m)\u001b[49m\n\u001b[0;32m     72\u001b[0m plot_obj\u001b[38;5;241m.\u001b[39mdraw()\n\u001b[0;32m     73\u001b[0m \u001b[38;5;28;01mreturn\u001b[39;00m plot_obj\u001b[38;5;241m.\u001b[39mresult\n",
      "File \u001b[1;32mc:\\Users\\tamaisme\\Desktop\\Projects\\PYTHON\\PROJECT\\sentiment_analysis\\venv\\lib\\site-packages\\pandas\\plotting\\_matplotlib\\core.py:508\u001b[0m, in \u001b[0;36mMPLPlot.generate\u001b[1;34m(self)\u001b[0m\n\u001b[0;32m    506\u001b[0m \u001b[38;5;28;01mfor\u001b[39;00m ax \u001b[38;5;129;01min\u001b[39;00m \u001b[38;5;28mself\u001b[39m\u001b[38;5;241m.\u001b[39maxes:\n\u001b[0;32m    507\u001b[0m     \u001b[38;5;28mself\u001b[39m\u001b[38;5;241m.\u001b[39m_post_plot_logic_common(ax)\n\u001b[1;32m--> 508\u001b[0m     \u001b[38;5;28;43mself\u001b[39;49m\u001b[38;5;241;43m.\u001b[39;49m\u001b[43m_post_plot_logic\u001b[49m\u001b[43m(\u001b[49m\u001b[43max\u001b[49m\u001b[43m,\u001b[49m\u001b[43m \u001b[49m\u001b[38;5;28;43mself\u001b[39;49m\u001b[38;5;241;43m.\u001b[39;49m\u001b[43mdata\u001b[49m\u001b[43m)\u001b[49m\n",
      "File \u001b[1;32mc:\\Users\\tamaisme\\Desktop\\Projects\\PYTHON\\PROJECT\\sentiment_analysis\\venv\\lib\\site-packages\\pandas\\plotting\\_matplotlib\\core.py:1972\u001b[0m, in \u001b[0;36mBarPlot._post_plot_logic\u001b[1;34m(self, ax, data)\u001b[0m\n\u001b[0;32m   1969\u001b[0m \u001b[38;5;28;01melse\u001b[39;00m:\n\u001b[0;32m   1970\u001b[0m     str_index \u001b[38;5;241m=\u001b[39m [pprint_thing(key) \u001b[38;5;28;01mfor\u001b[39;00m key \u001b[38;5;129;01min\u001b[39;00m \u001b[38;5;28mrange\u001b[39m(data\u001b[38;5;241m.\u001b[39mshape[\u001b[38;5;241m0\u001b[39m])]\n\u001b[1;32m-> 1972\u001b[0m s_edge \u001b[38;5;241m=\u001b[39m \u001b[38;5;28;43mself\u001b[39;49m\u001b[38;5;241;43m.\u001b[39;49m\u001b[43max_pos\u001b[49m\u001b[43m[\u001b[49m\u001b[38;5;241;43m0\u001b[39;49m\u001b[43m]\u001b[49m \u001b[38;5;241m-\u001b[39m \u001b[38;5;241m0.25\u001b[39m \u001b[38;5;241m+\u001b[39m \u001b[38;5;28mself\u001b[39m\u001b[38;5;241m.\u001b[39mlim_offset\n\u001b[0;32m   1973\u001b[0m e_edge \u001b[38;5;241m=\u001b[39m \u001b[38;5;28mself\u001b[39m\u001b[38;5;241m.\u001b[39max_pos[\u001b[38;5;241m-\u001b[39m\u001b[38;5;241m1\u001b[39m] \u001b[38;5;241m+\u001b[39m \u001b[38;5;241m0.25\u001b[39m \u001b[38;5;241m+\u001b[39m \u001b[38;5;28mself\u001b[39m\u001b[38;5;241m.\u001b[39mbar_width \u001b[38;5;241m+\u001b[39m \u001b[38;5;28mself\u001b[39m\u001b[38;5;241m.\u001b[39mlim_offset\n\u001b[0;32m   1975\u001b[0m \u001b[38;5;28mself\u001b[39m\u001b[38;5;241m.\u001b[39m_decorate_ticks(ax, \u001b[38;5;28mself\u001b[39m\u001b[38;5;241m.\u001b[39m_get_index_name(), str_index, s_edge, e_edge)\n",
      "\u001b[1;31mIndexError\u001b[0m: index 0 is out of bounds for axis 0 with size 0"
     ]
    },
    {
     "data": {
      "image/png": "[encoded data removed]",
      "text/plain": [
       "<Figure size 800x500 with 1 Axes>"
      ]
     },
     "metadata": {},
     "output_type": "display_data"
    }
   ],
   "source": [
    "en_df, _ = load_and_prepare_data('en')"
   ]
  },
  {
   "cell_type": "markdown",
   "metadata": {},
   "source": [
    "## 2. Feature Engineering"
   ]
  },
  {
   "cell_type": "code",
   "execution_count": null,
   "metadata": {},
   "outputs": [],
   "source": [
    "def extract_features(df: pd.DataFrame, language: str, config: Config):\n",
    "    feature_extractor = FeatureExtractor(language, config)\n",
    "    data_loader = DataLoader(config)\n",
    "    \n",
    "    # Split data\n",
    "    train_df, test_df = data_loader.split_data(df)\n",
    "    \n",
    "    # Get features and labels\n",
    "    X_train, y_train = data_loader.get_features_and_labels(train_df)\n",
    "    X_test, y_test = data_loader.get_features_and_labels(test_df)\n",
    "    \n",
    "    # Extract features\n",
    "    print(f\"Extracting features for {language}...\")\n",
    "    X_train_features = feature_extractor.extract_features(X_train)\n",
    "    X_test_features = feature_extractor.extract_features(X_test)\n",
    "    \n",
    "    return X_train_features, X_test_features, y_train, y_test"
   ]
  },
  {
   "cell_type": "code",
   "execution_count": null,
   "metadata": {},
   "outputs": [],
   "source": [
    "# Ensure 'feature_extraction' key exists\n",
    "if 'feature_extraction' not in config.LANGUAGE_CONFIGS['vi']:\n",
    "\tconfig.LANGUAGE_CONFIGS['vi']['feature_extraction'] = {}\n",
    "if 'feature_extraction' not in config.LANGUAGE_CONFIGS['en']:\n",
    "\tconfig.LANGUAGE_CONFIGS['en']['feature_extraction'] = {}\n",
    "\n",
    "# Adjust feature extraction parameters\n",
    "config.LANGUAGE_CONFIGS['vi']['feature_extraction']['min_df'] = 0.0001\n",
    "config.LANGUAGE_CONFIGS['vi']['feature_extraction']['max_df'] = 0.95\n",
    "config.LANGUAGE_CONFIGS['en']['feature_extraction']['min_df'] = 0.0001\n",
    "config.LANGUAGE_CONFIGS['en']['feature_extraction']['max_df'] = 0.95\n",
    "\n",
    "# Vietnamese features\n",
    "X_train_vi, X_test_vi, y_train_vi, y_test_vi = extract_features(vi_df, 'vi', config)\n",
    "\n",
    "# English features\n",
    "X_train_en, X_test_en, y_train_en, y_test_en = extract_features(en_df, 'en', config)"
   ]
  },
  {
   "cell_type": "markdown",
   "metadata": {},
   "source": [
    "## 3. Model Training and Evaluation"
   ]
  },
  {
   "cell_type": "code",
   "execution_count": null,
   "metadata": {},
   "outputs": [],
   "source": [
    "def train_and_evaluate(X_train, X_test, y_train, y_test, language: str, config: Config):\n",
    "    # Train model\n",
    "    trainer = EnhancedModelTrainer(language, config)\n",
    "    model = trainer.train_with_grid_search(X_train, y_train)\n",
    "    \n",
    "    # Evaluate\n",
    "    evaluator = ModelEvaluator(language)\n",
    "    y_pred = model.predict(X_test)\n",
    "    y_prob = model.predict_proba(X_test)\n",
    "    \n",
    "    results = evaluator.evaluate(y_test, y_pred, y_prob)\n",
    "    print(f\"\\nResults for {language.upper()}:\")\n",
    "    print(results['classification_report'])\n",
    "    \n",
    "    return model"
   ]
  },
  {
   "cell_type": "markdown",
   "metadata": {},
   "source": [
    "### Train Vietnamese Model"
   ]
  },
  {
   "cell_type": "code",
   "execution_count": null,
   "metadata": {},
   "outputs": [],
   "source": [
    "vi_model = train_and_evaluate(X_train_vi, X_test_vi, y_train_vi, y_test_vi, 'vi', config)"
   ]
  },
  {
   "cell_type": "markdown",
   "metadata": {},
   "source": [
    "### Train English Model"
   ]
  },
  {
   "cell_type": "code",
   "execution_count": null,
   "metadata": {},
   "outputs": [],
   "source": [
    "en_model = train_and_evaluate(X_train_en, X_test_en, y_train_en, y_test_en, 'en', config)"
   ]
  },
  {
   "cell_type": "markdown",
   "metadata": {},
   "source": [
    "## 4. Save Models"
   ]
  },
  {
   "cell_type": "code",
   "execution_count": null,
   "metadata": {},
   "outputs": [],
   "source": [
    "import joblib\n",
    "\n",
    "# Save Vietnamese model\n",
    "vi_model_path = config.LANGUAGE_CONFIGS['vi']['model_path']\n",
    "os.makedirs(os.path.dirname(vi_model_path), exist_ok=True)\n",
    "joblib.dump(vi_model, vi_model_path)\n",
    "print(f\"Vietnamese model saved to {vi_model_path}\")\n",
    "\n",
    "# Save English model\n",
    "en_model_path = config.LANGUAGE_CONFIGS['en']['model_path']\n",
    "os.makedirs(os.path.dirname(en_model_path), exist_ok=True)\n",
    "joblib.dump(en_model, en_model_path)\n",
    "print(f\"English model saved to {en_model_path}\")"
   ]
  }
 ],
 "metadata": {
  "kernelspec": {
   "display_name": "venv",
   "language": "python",
   "name": "python3"
  },
  "language_info": {
   "codemirror_mode": {
    "name": "ipython",
    "version": 3
   },
   "file_extension": ".py",
   "mimetype": "text/x-python",
   "name": "python",
   "nbconvert_exporter": "python",
   "pygments_lexer": "ipython3",
   "version": "3.10.0"
  }
 },
 "nbformat": 4,
 "nbformat_minor": 2
}
