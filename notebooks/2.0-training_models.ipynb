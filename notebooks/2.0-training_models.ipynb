{
 "cells": [
  {
   "cell_type": "markdown",
   "metadata": {},
   "source": [
    "# Sentiment Analysis Model Training\n",
    "\n",
    "This notebook demonstrates the training process for both Vietnamese and English sentiment analysis models."
   ]
  },
  {
   "cell_type": "code",
   "execution_count": null,
   "metadata": {},
   "outputs": [
    {
     "name": "stderr",
     "output_type": "stream",
     "text": [
      "WARNING: You are using pip version 21.2.3; however, version 24.3.1 is available.\n",
      "You should consider upgrading via the 'c:\\Users\\tamaisme\\Desktop\\Projects\\PYTHON\\PROJECT\\sentiment_analysis\\venv\\Scripts\\python.exe -m pip install --upgrade pip' command.\n"
     ]
    },
    {
     "name": "stdout",
     "output_type": "stream",
     "text": [
      "Requirement already satisfied: utils in c:\\users\\tamaisme\\desktop\\projects\\python\\project\\sentiment_analysis\\venv\\lib\\site-packages (1.0.2)\n",
      "Note: you may need to restart the kernel to use updated packages.\n"
     ]
    }
   ],
   "source": [
    "%pip install utils\n",
    "\n",
    "import os\n",
    "import sys\n",
    "import pandas as pd\n",
    "import numpy as np\n",
    "import matplotlib.pyplot as plt\n",
    "\n",
    "# Add project root to path\n",
    "project_root = os.path.abspath(os.path.join(os.getcwd(), '..', '..', 'sentiment_analysis'))\n",
    "sys.path.append(project_root)\n",
    "\n",
    "from src.config import Config\n",
    "from src.data.data_loader import DataLoader\n",
    "from src.data.preprocessor import DataPreprocessor\n",
    "from src.features.feature_engineering import FeatureExtractor\n",
    "from src.models.model_trainer import EnhancedModelTrainer\n",
    "from src.utils.evaluation import ModelEvaluator"
   ]
  },
  {
   "cell_type": "markdown",
   "metadata": {},
   "source": [
    "## 1. Load and Prepare Data"
   ]
  },
  {
   "cell_type": "code",
   "execution_count": 2,
   "metadata": {},
   "outputs": [],
   "source": [
    "def load_and_prepare_data(language: str):\n",
    "    config = Config()\n",
    "    data_loader = DataLoader(config)\n",
    "    preprocessor = DataPreprocessor(language, config)\n",
    "    \n",
    "    # Load data\n",
    "    print(f\"Loading {language} data...\")\n",
    "    df = data_loader.load_data(language)\n",
    "    print(f\"Raw data shape: {df.shape}\")\n",
    "    \n",
    "    # Preprocess\n",
    "    processed_df = preprocessor.preprocess(df)\n",
    "    print(f\"Processed data shape: {processed_df.shape}\")\n",
    "    \n",
    "    # Display class distribution\n",
    "    plt.figure(figsize=(8, 5))\n",
    "    processed_df['label'].value_counts().plot(kind='bar')\n",
    "    plt.title(f'Class Distribution - {language.upper()}')\n",
    "    plt.show()\n",
    "    \n",
    "    return processed_df, config"
   ]
  },
  {
   "cell_type": "markdown",
   "metadata": {},
   "source": [
    "### Vietnamese Data"
   ]
  },
  {
   "cell_type": "code",
   "execution_count": 3,
   "metadata": {},
   "outputs": [
    {
     "name": "stdout",
     "output_type": "stream",
     "text": [
      "Loading vi data...\n",
      "2024-11-11 05:11:16,921 - src.data.data_loader - INFO - Valid samples after validation: 10000\n",
      "Raw data shape: (10000, 2)\n",
      "2024-11-11 05:11:16,923 - src.data.preprocessor - INFO - Preprocessing vi data...\n",
      "2024-11-11 05:11:22,469 - src.data.preprocessor - INFO - Preprocessed 9958 valid samples\n",
      "Processed data shape: (9958, 3)\n"
     ]
    },
    {
     "data": {
      "image/png": "[encoded data removed]",
      "text/plain": [
       "<Figure size 800x500 with 1 Axes>"
      ]
     },
     "metadata": {},
     "output_type": "display_data"
    }
   ],
   "source": [
    "vi_df, config = load_and_prepare_data('vi')"
   ]
  },
  {
   "cell_type": "markdown",
   "metadata": {},
   "source": [
    "### English Data"
   ]
  },
  {
   "cell_type": "code",
   "execution_count": 4,
   "metadata": {},
   "outputs": [
    {
     "name": "stdout",
     "output_type": "stream",
     "text": [
      "Loading en data...\n",
      "2024-11-11 05:11:22,605 - src.data.data_loader - WARNING - Initial load failed: [Errno 2] No such file or directory: 'c:\\\\Users\\\\tamaisme\\\\Desktop\\\\Projects\\\\PYTHON\\\\PROJECT\\\\sentiment_analysis\\\\data\\\\raw\\\\en_social_media.csv'\n",
      "2024-11-11 05:11:22,605 - src.data.data_loader - WARNING - Initial load failed: [Errno 2] No such file or directory: 'c:\\\\Users\\\\tamaisme\\\\Desktop\\\\Projects\\\\PYTHON\\\\PROJECT\\\\sentiment_analysis\\\\data\\\\raw\\\\en_social_media.csv'\n",
      "2024-11-11 05:11:22,607 - src.data.data_loader - ERROR - Failed to load data: [Errno 2] No such file or directory: 'c:\\\\Users\\\\tamaisme\\\\Desktop\\\\Projects\\\\PYTHON\\\\PROJECT\\\\sentiment_analysis\\\\data\\\\raw\\\\en_social_media.csv'\n",
      "2024-11-11 05:11:22,607 - src.data.data_loader - ERROR - Failed to load data: [Errno 2] No such file or directory: 'c:\\\\Users\\\\tamaisme\\\\Desktop\\\\Projects\\\\PYTHON\\\\PROJECT\\\\sentiment_analysis\\\\data\\\\raw\\\\en_social_media.csv'\n",
      "Raw data shape: (0, 2)\n",
      "2024-11-11 05:11:22,609 - src.data.preprocessor - INFO - Preprocessing en data...\n",
      "2024-11-11 05:11:22,609 - src.data.preprocessor - INFO - Preprocessing en data...\n",
      "2024-11-11 05:11:22,611 - src.data.preprocessor - ERROR - Preprocessing error: Empty input data\n",
      "2024-11-11 05:11:22,611 - src.data.preprocessor - ERROR - Preprocessing error: Empty input data\n",
      "Processed data shape: (0, 3)\n",
      "An error occurred while loading the English dataset: index 0 is out of bounds for axis 0 with size 0\n"
     ]
    },
    {
     "data": {
      "image/png": "[encoded data removed]",
      "text/plain": [
       "<Figure size 800x500 with 1 Axes>"
      ]
     },
     "metadata": {},
     "output_type": "display_data"
    }
   ],
   "source": [
    "# Load and prepare English data\n",
    "try:\n",
    "\ten_df, _ = load_and_prepare_data('en')\n",
    "\n",
    "\t# Check if the DataFrame is empty\n",
    "\tif en_df.empty:\n",
    "\t\tprint(\"Error: The English dataset is empty. Please check the data loading process.\")\n",
    "\telse:\n",
    "\t\tprint(f\"English dataset loaded successfully with shape: {en_df.shape}\")\n",
    "except Exception as e:\n",
    "\tprint(f\"An error occurred while loading the English dataset: {e}\")"
   ]
  },
  {
   "cell_type": "markdown",
   "metadata": {},
   "source": [
    "## 2. Feature Engineering"
   ]
  },
  {
   "cell_type": "code",
   "execution_count": 5,
   "metadata": {},
   "outputs": [],
   "source": [
    "def extract_features(df: pd.DataFrame, language: str, config: Config):\n",
    "    feature_extractor = FeatureExtractor(language, config)\n",
    "    data_loader = DataLoader(config)\n",
    "    \n",
    "    # Split data\n",
    "    train_df, test_df = data_loader.split_data(df)\n",
    "    \n",
    "    # Get features and labels\n",
    "    X_train, y_train = data_loader.get_features_and_labels(train_df)\n",
    "    X_test, y_test = data_loader.get_features_and_labels(test_df)\n",
    "    \n",
    "    # Extract features\n",
    "    print(f\"Extracting features for {language}...\")\n",
    "    X_train_features = feature_extractor.extract_features(X_train)\n",
    "    X_test_features = feature_extractor.extract_features(X_test)\n",
    "    \n",
    "    return X_train_features, X_test_features, y_train, y_test"
   ]
  },
  {
   "cell_type": "code",
   "execution_count": 6,
   "metadata": {},
   "outputs": [
    {
     "name": "stdout",
     "output_type": "stream",
     "text": [
      "Loaded feature extractor with 2619 dimensions\n",
      "2024-11-11 05:11:22,766 - src.data.data_loader - INFO - Class distribution before split: {2: 0.4234786101626833, 1: 0.3055834504920667, 0: 0.27093793934525007}\n",
      "2024-11-11 05:11:22,766 - src.data.data_loader - INFO - Class distribution before split: {2: 0.4234786101626833, 1: 0.3055834504920667, 0: 0.27093793934525007}\n",
      "2024-11-11 05:11:22,766 - src.data.data_loader - INFO - Class distribution before split: {2: 0.4234786101626833, 1: 0.3055834504920667, 0: 0.27093793934525007}\n",
      "2024-11-11 05:11:22,773 - src.data.data_loader - INFO - Training set size: 6970 samples\n",
      "2024-11-11 05:11:22,773 - src.data.data_loader - INFO - Training set size: 6970 samples\n",
      "2024-11-11 05:11:22,773 - src.data.data_loader - INFO - Training set size: 6970 samples\n",
      "2024-11-11 05:11:22,775 - src.data.data_loader - INFO - Test set size: 2988 samples\n",
      "2024-11-11 05:11:22,775 - src.data.data_loader - INFO - Test set size: 2988 samples\n",
      "2024-11-11 05:11:22,775 - src.data.data_loader - INFO - Test set size: 2988 samples\n",
      "2024-11-11 05:11:22,778 - src.data.data_loader - INFO - Training distribution: {2: 0.4235294117647059, 1: 0.30559540889526543, 0: 0.2708751793400287}\n",
      "2024-11-11 05:11:22,778 - src.data.data_loader - INFO - Training distribution: {2: 0.4235294117647059, 1: 0.30559540889526543, 0: 0.2708751793400287}\n",
      "2024-11-11 05:11:22,778 - src.data.data_loader - INFO - Training distribution: {2: 0.4235294117647059, 1: 0.30559540889526543, 0: 0.2708751793400287}\n",
      "2024-11-11 05:11:22,781 - src.data.data_loader - INFO - Test distribution: {2: 0.42336010709504684, 1: 0.3055555555555556, 0: 0.2710843373493976}\n",
      "2024-11-11 05:11:22,781 - src.data.data_loader - INFO - Test distribution: {2: 0.42336010709504684, 1: 0.3055555555555556, 0: 0.2710843373493976}\n",
      "2024-11-11 05:11:22,781 - src.data.data_loader - INFO - Test distribution: {2: 0.42336010709504684, 1: 0.3055555555555556, 0: 0.2710843373493976}\n",
      "2024-11-11 05:11:22,785 - src.data.data_loader - INFO - Using 6970 valid samples after NaN removal\n",
      "2024-11-11 05:11:22,785 - src.data.data_loader - INFO - Using 6970 valid samples after NaN removal\n",
      "2024-11-11 05:11:22,785 - src.data.data_loader - INFO - Using 6970 valid samples after NaN removal\n",
      "2024-11-11 05:11:22,789 - src.data.data_loader - INFO - Using 2988 valid samples after NaN removal\n",
      "2024-11-11 05:11:22,789 - src.data.data_loader - INFO - Using 2988 valid samples after NaN removal\n",
      "2024-11-11 05:11:22,789 - src.data.data_loader - INFO - Using 2988 valid samples after NaN removal\n",
      "Extracting features for vi...\n",
      "Loading en data...\n",
      "2024-11-11 05:11:24,565 - src.data.data_loader - WARNING - Initial load failed: [Errno 2] No such file or directory: 'c:\\\\Users\\\\tamaisme\\\\Desktop\\\\Projects\\\\PYTHON\\\\PROJECT\\\\sentiment_analysis\\\\data\\\\raw\\\\en_social_media.csv'\n",
      "2024-11-11 05:11:24,565 - src.data.data_loader - WARNING - Initial load failed: [Errno 2] No such file or directory: 'c:\\\\Users\\\\tamaisme\\\\Desktop\\\\Projects\\\\PYTHON\\\\PROJECT\\\\sentiment_analysis\\\\data\\\\raw\\\\en_social_media.csv'\n",
      "2024-11-11 05:11:24,565 - src.data.data_loader - WARNING - Initial load failed: [Errno 2] No such file or directory: 'c:\\\\Users\\\\tamaisme\\\\Desktop\\\\Projects\\\\PYTHON\\\\PROJECT\\\\sentiment_analysis\\\\data\\\\raw\\\\en_social_media.csv'\n",
      "2024-11-11 05:11:24,565 - src.data.data_loader - WARNING - Initial load failed: [Errno 2] No such file or directory: 'c:\\\\Users\\\\tamaisme\\\\Desktop\\\\Projects\\\\PYTHON\\\\PROJECT\\\\sentiment_analysis\\\\data\\\\raw\\\\en_social_media.csv'\n",
      "2024-11-11 05:11:24,567 - src.data.data_loader - ERROR - Failed to load data: [Errno 2] No such file or directory: 'c:\\\\Users\\\\tamaisme\\\\Desktop\\\\Projects\\\\PYTHON\\\\PROJECT\\\\sentiment_analysis\\\\data\\\\raw\\\\en_social_media.csv'\n",
      "2024-11-11 05:11:24,567 - src.data.data_loader - ERROR - Failed to load data: [Errno 2] No such file or directory: 'c:\\\\Users\\\\tamaisme\\\\Desktop\\\\Projects\\\\PYTHON\\\\PROJECT\\\\sentiment_analysis\\\\data\\\\raw\\\\en_social_media.csv'\n",
      "2024-11-11 05:11:24,567 - src.data.data_loader - ERROR - Failed to load data: [Errno 2] No such file or directory: 'c:\\\\Users\\\\tamaisme\\\\Desktop\\\\Projects\\\\PYTHON\\\\PROJECT\\\\sentiment_analysis\\\\data\\\\raw\\\\en_social_media.csv'\n",
      "2024-11-11 05:11:24,567 - src.data.data_loader - ERROR - Failed to load data: [Errno 2] No such file or directory: 'c:\\\\Users\\\\tamaisme\\\\Desktop\\\\Projects\\\\PYTHON\\\\PROJECT\\\\sentiment_analysis\\\\data\\\\raw\\\\en_social_media.csv'\n",
      "Raw data shape: (0, 2)\n",
      "2024-11-11 05:11:24,571 - src.data.preprocessor - INFO - Preprocessing en data...\n",
      "2024-11-11 05:11:24,571 - src.data.preprocessor - INFO - Preprocessing en data...\n",
      "2024-11-11 05:11:24,571 - src.data.preprocessor - INFO - Preprocessing en data...\n",
      "2024-11-11 05:11:24,573 - src.data.preprocessor - ERROR - Preprocessing error: Empty input data\n",
      "2024-11-11 05:11:24,573 - src.data.preprocessor - ERROR - Preprocessing error: Empty input data\n",
      "2024-11-11 05:11:24,573 - src.data.preprocessor - ERROR - Preprocessing error: Empty input data\n",
      "Processed data shape: (0, 3)\n",
      "An error occurred while loading and preparing English data: index 0 is out of bounds for axis 0 with size 0\n"
     ]
    },
    {
     "data": {
      "image/png": "[encoded data removed]",
      "text/plain": [
       "<Figure size 800x500 with 1 Axes>"
      ]
     },
     "metadata": {},
     "output_type": "display_data"
    }
   ],
   "source": [
    "try:\n",
    "\t# Ensure 'feature_extraction' key exists\n",
    "\tif 'feature_extraction' not in config.LANGUAGE_CONFIGS['vi']:\n",
    "\t\tconfig.LANGUAGE_CONFIGS['vi']['feature_extraction'] = {}\n",
    "\tif 'feature_extraction' not in config.LANGUAGE_CONFIGS['en']:\n",
    "\t\tconfig.LANGUAGE_CONFIGS['en']['feature_extraction'] = {}\n",
    "\n",
    "\t# Adjust feature extraction parameters\n",
    "\tconfig.LANGUAGE_CONFIGS['vi']['feature_extraction']['min_df'] = 0.0001\n",
    "\tconfig.LANGUAGE_CONFIGS['vi']['feature_extraction']['max_df'] = 0.95\n",
    "\tconfig.LANGUAGE_CONFIGS['en']['feature_extraction']['min_df'] = 0.0001\n",
    "\tconfig.LANGUAGE_CONFIGS['en']['feature_extraction']['max_df'] = 0.95\n",
    "\n",
    "\t# Ensure Vietnamese data is loaded\n",
    "\ttry:\n",
    "\t\tif 'vi_df' not in globals():\n",
    "\t\t\tvi_df, config = load_and_prepare_data('vi')\n",
    "\t\tX_train_vi, X_test_vi, y_train_vi, y_test_vi = extract_features(vi_df, 'vi', config)\n",
    "\texcept Exception as e:\n",
    "\t\tprint(f\"An error occurred while loading and preparing Vietnamese data: {e}\")\n",
    "\t\tX_train_vi, X_test_vi, y_train_vi, y_test_vi = None, None, None, None\n",
    "\n",
    "\t# Ensure English data is loaded\n",
    "\ttry:\n",
    "\t\tif 'en_df' not in globals():\n",
    "\t\t\ten_df, _ = load_and_prepare_data('en')\n",
    "\t\tif en_df.empty:\n",
    "\t\t\tprint(\"Error: The English dataset is empty. Please check the data loading process.\")\n",
    "\t\t\tX_train_en, X_test_en, y_train_en, y_test_en = None, None, None, None\n",
    "\t\telse:\n",
    "\t\t\tX_train_en, X_test_en, y_train_en, y_test_en = extract_features(en_df, 'en', config)\n",
    "\texcept Exception as e:\n",
    "\t\tprint(f\"An error occurred while loading and preparing English data: {e}\")\n",
    "\t\tX_train_en, X_test_en, y_train_en, y_test_en = None, None, None, None\n",
    "\n",
    "except Exception as e:\n",
    "\tprint(f\"An error occurred: {e}\")\n",
    "\tX_train_vi, X_test_vi, y_train_vi, y_test_vi = None, None, None, None\n",
    "\tX_train_en, X_test_en, y_train_en, y_test_en = None, None, None, None"
   ]
  },
  {
   "cell_type": "markdown",
   "metadata": {},
   "source": [
    "## 3. Model Training and Evaluation"
   ]
  },
  {
   "cell_type": "code",
   "execution_count": 7,
   "metadata": {},
   "outputs": [],
   "source": [
    "def train_and_evaluate(X_train, X_test, y_train, y_test, language: str, config: Config):\n",
    "    # Train model\n",
    "    trainer = EnhancedModelTrainer(language, config)\n",
    "    model = trainer.train_with_grid_search(X_train, y_train)\n",
    "    \n",
    "    # Evaluate\n",
    "    evaluator = ModelEvaluator(language)\n",
    "    y_pred = model.predict(X_test)\n",
    "    y_prob = model.predict_proba(X_test)\n",
    "    \n",
    "    results = evaluator.evaluate(y_test, y_pred, y_prob)\n",
    "    print(f\"\\nResults for {language.upper()}:\")\n",
    "    print(results['classification_report'])\n",
    "    \n",
    "    return model"
   ]
  },
  {
   "cell_type": "markdown",
   "metadata": {},
   "source": [
    "### Train Vietnamese Model"
   ]
  },
  {
   "cell_type": "code",
   "execution_count": 13,
   "metadata": {},
   "outputs": [
    {
     "name": "stdout",
     "output_type": "stream",
     "text": [
      "2024-11-11 05:12:42,056 - src.models.model_trainer - INFO - Starting model training...\n",
      "2024-11-11 05:12:42,056 - src.models.model_trainer - INFO - Starting model training...\n",
      "2024-11-11 05:12:42,056 - src.models.model_trainer - INFO - Starting model training...\n",
      "2024-11-11 05:12:42,057 - src.models.model_trainer - ERROR - Training failed: Feature extractor not initialized\n",
      "2024-11-11 05:12:42,057 - src.models.model_trainer - ERROR - Training failed: Feature extractor not initialized\n",
      "2024-11-11 05:12:42,057 - src.models.model_trainer - ERROR - Training failed: Feature extractor not initialized\n",
      "Error during model training: 'NoneType' object has no attribute 'predict'\n"
     ]
    }
   ],
   "source": [
    "# Check if the training data is valid\n",
    "if X_train_vi is None or X_test_vi is None or y_train_vi is None or y_test_vi is None:\n",
    "\tprint(\"Error: Training data for Vietnamese model is not valid.\")\n",
    "else:\n",
    "\ttry:\n",
    "\t\t# Ensure feature extraction is done correctly\n",
    "\t\tif X_train_vi.size == 0 or X_test_vi.size == 0:\n",
    "\t\t\tprint(\"Error: Feature extraction for Vietnamese model failed.\")\n",
    "\t\telse:\n",
    "\t\t\tvi_model = train_and_evaluate(X_train_vi, X_test_vi, y_train_vi, y_test_vi, 'vi', config)\n",
    "\t\t\tif vi_model is None:\n",
    "\t\t\t\tprint(\"Error: Model training for Vietnamese model failed.\")\n",
    "\t\t\telse:\n",
    "\t\t\t\tprint(\"Vietnamese model trained successfully.\")\n",
    "\texcept AttributeError as e:\n",
    "\t\tprint(f\"Error during model training: {e}\")\n",
    "\texcept Exception as e:\n",
    "\t\tprint(f\"An unexpected error occurred during model training: {e}\")"
   ]
  },
  {
   "cell_type": "markdown",
   "metadata": {},
   "source": [
    "### Train English Model"
   ]
  },
  {
   "cell_type": "code",
   "execution_count": 9,
   "metadata": {},
   "outputs": [
    {
     "name": "stdout",
     "output_type": "stream",
     "text": [
      "Error: Training data for English model is not valid.\n"
     ]
    }
   ],
   "source": [
    "# Check if the training data is valid\n",
    "if X_train_en is None or X_test_en is None or y_train_en is None or y_test_en is None:\n",
    "\tprint(\"Error: Training data for English model is not valid.\")\n",
    "else:\n",
    "\ttry:\n",
    "\t\ten_model = train_and_evaluate(X_train_en, X_test_en, y_train_en, y_test_en, 'en', config)\n",
    "\t\tif en_model is None:\n",
    "\t\t\tprint(\"Error: Model training for English model failed.\")\n",
    "\texcept AttributeError as e:\n",
    "\t\tprint(f\"Error during model training: {e}\")"
   ]
  },
  {
   "cell_type": "markdown",
   "metadata": {},
   "source": [
    "## 4. Save Models"
   ]
  },
  {
   "cell_type": "code",
   "execution_count": 10,
   "metadata": {},
   "outputs": [
    {
     "name": "stdout",
     "output_type": "stream",
     "text": [
      "Error: Vietnamese model is not defined.\n",
      "Error: English model is not defined.\n"
     ]
    }
   ],
   "source": [
    "import joblib\n",
    "\n",
    "# Save Vietnamese model\n",
    "if 'vi_model' in globals():\n",
    "\tvi_model_path = config.LANGUAGE_CONFIGS['vi']['model_path']\n",
    "\tos.makedirs(os.path.dirname(vi_model_path), exist_ok=True)\n",
    "\tjoblib.dump(vi_model, vi_model_path)\n",
    "\tprint(f\"Vietnamese model saved to {vi_model_path}\")\n",
    "else:\n",
    "\tprint(\"Error: Vietnamese model is not defined.\")\n",
    "\n",
    "# Save English model\n",
    "if 'en_model' in globals():\n",
    "\ten_model_path = config.LANGUAGE_CONFIGS['en']['model_path']\n",
    "\tos.makedirs(os.path.dirname(en_model_path), exist_ok=True)\n",
    "\tjoblib.dump(en_model, en_model_path)\n",
    "\tprint(f\"English model saved to {en_model_path}\")\n",
    "else:\n",
    "\tprint(\"Error: English model is not defined.\")"
   ]
  }
 ],
 "metadata": {
  "kernelspec": {
   "display_name": "venv",
   "language": "python",
   "name": "python3"
  },
  "language_info": {
   "codemirror_mode": {
    "name": "ipython",
    "version": 3
   },
   "file_extension": ".py",
   "mimetype": "text/x-python",
   "name": "python",
   "nbconvert_exporter": "python",
   "pygments_lexer": "ipython3",
   "version": "3.10.0"
  }
 },
 "nbformat": 4,
 "nbformat_minor": 2
}
